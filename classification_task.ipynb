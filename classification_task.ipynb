{
 "cells": [
  {
   "cell_type": "code",
   "execution_count": 1,
   "id": "012a8c2d",
   "metadata": {
    "code_folding": [
     0
    ]
   },
   "outputs": [
    {
     "name": "stderr",
     "output_type": "stream",
     "text": [
      "[nltk_data] Downloading package stopwords to\n",
      "[nltk_data]     C:\\Users\\alejo\\AppData\\Roaming\\nltk_data...\n",
      "[nltk_data]   Package stopwords is already up-to-date!\n"
     ]
    }
   ],
   "source": [
    "# imports\n",
    "import pandas as pd\n",
    "import preproccesing\n",
    "import embeddings\n",
    "import numpy as np\n",
    "import matplotlib.pyplot as plt\n",
    "import seaborn as sns\n",
    "import warnings\n",
    "from sklearn.feature_extraction.text import CountVectorizer, HashingVectorizer, TfidfVectorizer\n",
    "from sklearn.metrics import accuracy_score, f1_score, classification_report, roc_curve, auc, confusion_matrix\n",
    "from sklearn.linear_model import LogisticRegression\n",
    "from xgboost import XGBClassifier\n",
    "from sklearn.model_selection import train_test_split, cross_validate\n",
    "from imblearn.combine import SMOTEENN\n",
    "from transformers import AutoTokenizer\n",
    "from transformers import AutoModel\n",
    "from transformers import AutoTokenizer\n",
    "from transformers import AutoModel\n",
    "from sklearn.metrics import roc_curve, auc, balanced_accuracy_score\n",
    "import torch\n",
    "import gc\n",
    "warnings.filterwarnings(\"ignore\")"
   ]
  },
  {
   "cell_type": "markdown",
   "id": "8edfb9d8",
   "metadata": {
    "heading_collapsed": true
   },
   "source": [
    "# Getting data ready"
   ]
  },
  {
   "cell_type": "code",
   "execution_count": 2,
   "id": "98a3ca42",
   "metadata": {
    "hidden": true
   },
   "outputs": [],
   "source": [
    "df = pd.read_csv(\"data_sample_nlp.csv\")\n",
    "df_en = df[df.language=='en'].copy()"
   ]
  },
  {
   "cell_type": "code",
   "execution_count": 3,
   "id": "ba87e6e0",
   "metadata": {
    "hidden": true
   },
   "outputs": [],
   "source": [
    "bots = df_en[df_en.label=='bot'].copy()\n",
    "humans = df_en[df_en.label=='human'].copy()\n",
    "df_small = pd.concat([bots,humans]).reset_index().drop(columns='index')"
   ]
  },
  {
   "cell_type": "code",
   "execution_count": 4,
   "id": "b124b9fa",
   "metadata": {
    "hidden": true
   },
   "outputs": [],
   "source": [
    "df_clean = preproccesing.preprocessing(\n",
    "                                        df=df_small,\n",
    "                                        lowercase=False, \n",
    "                                        stopwords=False, \n",
    "                                        links=False, \n",
    "                                        tags=False, \n",
    "                                        numbers=False, \n",
    "                                        emojis=False, \n",
    "                                        hashtag=False,\n",
    "                                        rt=False\n",
    "                                       ).copy()\n",
    "\n",
    "data=df_clean.copy()"
   ]
  },
  {
   "cell_type": "code",
   "execution_count": 6,
   "id": "d633b000",
   "metadata": {
    "hidden": true
   },
   "outputs": [
    {
     "name": "stdout",
     "output_type": "stream",
     "text": [
      "<class 'pandas.core.frame.DataFrame'>\n",
      "RangeIndex: 220152 entries, 0 to 220151\n",
      "Data columns (total 14 columns):\n",
      " #   Column                   Non-Null Count   Dtype  \n",
      "---  ------                   --------------   -----  \n",
      " 0   label                    220152 non-null  object \n",
      " 1   id                       220152 non-null  object \n",
      " 2   author_id                220152 non-null  object \n",
      " 3   created_at               220152 non-null  object \n",
      " 4   type                     220152 non-null  object \n",
      " 5   text                     220152 non-null  object \n",
      " 6   language                 220152 non-null  object \n",
      " 7   geo_location             220152 non-null  object \n",
      " 8   referenced_tweets_types  220152 non-null  object \n",
      " 9   referenced_tweets_ids    220152 non-null  object \n",
      " 10  user_mentions            220152 non-null  object \n",
      " 11  media_types              220152 non-null  object \n",
      " 12  in_reply_to_user_id      54415 non-null   float64\n",
      " 13  possibly_sensitive       220152 non-null  object \n",
      "dtypes: float64(1), object(13)\n",
      "memory usage: 23.5+ MB\n"
     ]
    }
   ],
   "source": [
    "data.info()"
   ]
  },
  {
   "cell_type": "code",
   "execution_count": 7,
   "id": "69dac877",
   "metadata": {
    "hidden": true
   },
   "outputs": [],
   "source": [
    "X = data.text\n",
    "y = data.label.map(lambda x: 1 if x=='bot' else 0)"
   ]
  },
  {
   "cell_type": "code",
   "execution_count": 8,
   "id": "3c177428",
   "metadata": {
    "code_folding": [
     0
    ],
    "hidden": true
   },
   "outputs": [
    {
     "data": {
      "image/png": "[encoded data removed]",
      "text/plain": [
       "<Figure size 432x288 with 1 Axes>"
      ]
     },
     "metadata": {
      "needs_background": "light"
     },
     "output_type": "display_data"
    },
    {
     "name": "stdout",
     "output_type": "stream",
     "text": [
      "Imbalance: 0.07899996366147026\n"
     ]
    }
   ],
   "source": [
    "# positive class\n",
    "sns.countplot(x=y)\n",
    "plt.show()\n",
    "print(f'Imbalance: {sum(y)/len(y)}')"
   ]
  },
  {
   "cell_type": "code",
   "execution_count": 9,
   "id": "3ea01075",
   "metadata": {
    "hidden": true
   },
   "outputs": [],
   "source": [
    "X_train, X_test, y_train, y_test = train_test_split(\n",
    "                                                    X, \n",
    "                                                    y, \n",
    "                                                    test_size=0.4, \n",
    "                                                    random_state=42\n",
    "                                                   )"
   ]
  },
  {
   "cell_type": "markdown",
   "id": "48766e6d",
   "metadata": {
    "heading_collapsed": true
   },
   "source": [
    "# Bench mark"
   ]
  },
  {
   "cell_type": "markdown",
   "id": "3b4a033d",
   "metadata": {
    "hidden": true
   },
   "source": [
    "## Count vectorizer\n",
    "\n",
    "Creates a dictionary with the top 10000 words in the training corpus according to frequency. We use this to get a first benchmark after doing nothing to the data"
   ]
  },
  {
   "cell_type": "code",
   "execution_count": 13,
   "id": "b55caa6b",
   "metadata": {
    "hidden": true
   },
   "outputs": [
    {
     "data": {
      "text/plain": [
       "CountVectorizer(max_features=10000)"
      ]
     },
     "execution_count": 13,
     "metadata": {},
     "output_type": "execute_result"
    }
   ],
   "source": [
    "vectorizer = CountVectorizer(max_features=10000, \n",
    "                             lowercase=True)\n",
    "vectorizer.fit(X_train)"
   ]
  },
  {
   "cell_type": "code",
   "execution_count": 15,
   "id": "c2f1339b",
   "metadata": {
    "hidden": true
   },
   "outputs": [
    {
     "name": "stdout",
     "output_type": "stream",
     "text": [
      "              precision    recall  f1-score   support\n",
      "\n",
      "           0       0.92      1.00      0.96     81179\n",
      "           1       0.22      0.02      0.03      6882\n",
      "\n",
      "    accuracy                           0.92     88061\n",
      "   macro avg       0.57      0.51      0.49     88061\n",
      "weighted avg       0.87      0.92      0.89     88061\n",
      "\n"
     ]
    }
   ],
   "source": [
    "# here's a simple classifier, we can try different ones\n",
    "lg = LogisticRegression()\n",
    "lg.fit(vectorizer.transform(X_train).toarray(), y_train)\n",
    "print(classification_report(y_test, lg.predict(vectorizer.transform(X_test))))"
   ]
  },
  {
   "cell_type": "markdown",
   "id": "4554a08e",
   "metadata": {
    "hidden": true
   },
   "source": [
    "Very poor performance, mostly due to the imbalance of the classes"
   ]
  },
  {
   "cell_type": "markdown",
   "id": "8a94127a",
   "metadata": {
    "heading_collapsed": true
   },
   "source": [
    "# Balancing the classes"
   ]
  },
  {
   "cell_type": "markdown",
   "id": "bfe56246",
   "metadata": {
    "hidden": true
   },
   "source": [
    "## Down sampling"
   ]
  },
  {
   "cell_type": "code",
   "execution_count": 20,
   "id": "97b3ffbd",
   "metadata": {
    "hidden": true
   },
   "outputs": [],
   "source": [
    "bots = df_en[df_en.label=='bot'].copy()\n",
    "humans = df_en[df_en.label=='human'].sample(frac=0.0857).copy()\n",
    "df_small = pd.concat([bots,humans]).reset_index().drop(columns='index')"
   ]
  },
  {
   "cell_type": "code",
   "execution_count": 24,
   "id": "59f35afc",
   "metadata": {
    "hidden": true
   },
   "outputs": [],
   "source": [
    "df_clean = preproccesing.preprocessing(\n",
    "                                        df=df_small,\n",
    "                                        lowercase=False, \n",
    "                                        stopwords=False, \n",
    "                                        links=False, \n",
    "                                        tags=False, \n",
    "                                        numbers=False, \n",
    "                                        emojis=False, \n",
    "                                        hashtag=False,\n",
    "                                        rt=False\n",
    "                                       ).copy()"
   ]
  },
  {
   "cell_type": "code",
   "execution_count": 25,
   "id": "f4f49764",
   "metadata": {
    "hidden": true
   },
   "outputs": [],
   "source": [
    "data=df_clean.copy()"
   ]
  },
  {
   "cell_type": "code",
   "execution_count": 26,
   "id": "3625bdab",
   "metadata": {
    "hidden": true
   },
   "outputs": [],
   "source": [
    "X_balanced = data.text\n",
    "y_balanced = data.label.map(lambda x: 1 if x=='bot' else 0)"
   ]
  },
  {
   "cell_type": "code",
   "execution_count": 27,
   "id": "31a16c15",
   "metadata": {
    "code_folding": [
     0
    ],
    "hidden": true
   },
   "outputs": [
    {
     "data": {
      "image/png": "[encoded data removed]",
      "text/plain": [
       "<Figure size 432x288 with 1 Axes>"
      ]
     },
     "metadata": {
      "needs_background": "light"
     },
     "output_type": "display_data"
    },
    {
     "name": "stdout",
     "output_type": "stream",
     "text": [
      "Imbalance: 0.5002157093963013\n"
     ]
    }
   ],
   "source": [
    "# positive class\n",
    "sns.countplot(x=y_balanced)\n",
    "plt.show()\n",
    "print(f'Imbalance: {sum(y_balanced)/len(y_balanced)}')"
   ]
  },
  {
   "cell_type": "code",
   "execution_count": 28,
   "id": "1d3ca4c0",
   "metadata": {
    "hidden": true
   },
   "outputs": [],
   "source": [
    "X_train, X_test, y_train, y_test = train_test_split(\n",
    "                                                    X_balanced, \n",
    "                                                    y_balanced, \n",
    "                                                    test_size=0.4, \n",
    "                                                    random_state=42\n",
    "                                                   )"
   ]
  },
  {
   "cell_type": "markdown",
   "id": "7af65c23",
   "metadata": {
    "hidden": true
   },
   "source": [
    "### Count vectorizer\n",
    "\n",
    "Creates a dictionary with the top 10000 words in the training corpus according to frequency. We use this to get a first benchmark after doing nothing to the data"
   ]
  },
  {
   "cell_type": "code",
   "execution_count": 29,
   "id": "fbc2fa4a",
   "metadata": {
    "hidden": true
   },
   "outputs": [
    {
     "data": {
      "text/plain": [
       "CountVectorizer(max_features=10000)"
      ]
     },
     "execution_count": 29,
     "metadata": {},
     "output_type": "execute_result"
    }
   ],
   "source": [
    "vectorizer = CountVectorizer(max_features=10000, \n",
    "                             lowercase=True)\n",
    "vectorizer.fit(X_train)"
   ]
  },
  {
   "cell_type": "code",
   "execution_count": 31,
   "id": "2b5aba9d",
   "metadata": {
    "hidden": true
   },
   "outputs": [
    {
     "name": "stdout",
     "output_type": "stream",
     "text": [
      "              precision    recall  f1-score   support\n",
      "\n",
      "           0       0.54      0.56      0.55      6947\n",
      "           1       0.55      0.53      0.54      6961\n",
      "\n",
      "    accuracy                           0.54     13908\n",
      "   macro avg       0.54      0.54      0.54     13908\n",
      "weighted avg       0.54      0.54      0.54     13908\n",
      "\n"
     ]
    }
   ],
   "source": [
    "# here's a simple classifier, we can try different ones\n",
    "lg = LogisticRegression()\n",
    "lg.fit(vectorizer.transform(X_train).toarray(), y_train)\n",
    "print(classification_report(y_test, lg.predict(vectorizer.transform(X_test))))"
   ]
  },
  {
   "cell_type": "markdown",
   "id": "8b910f23",
   "metadata": {
    "hidden": true
   },
   "source": [
    "We got rid of the overfitting, and now we have a very poor classifier. Let's try SMOTEEN balancing before trying different things to better our model"
   ]
  },
  {
   "cell_type": "markdown",
   "id": "a3a61a55",
   "metadata": {
    "heading_collapsed": true,
    "hidden": true
   },
   "source": [
    "## SMOTEEN \n",
    "\n",
    "For memory reasons, we have to downsample a little bit"
   ]
  },
  {
   "cell_type": "code",
   "execution_count": 41,
   "id": "dacd7865",
   "metadata": {
    "code_folding": [
     0
    ],
    "hidden": true
   },
   "outputs": [],
   "source": [
    "# downsampling a little bit\n",
    "\n",
    "bots = df_en[df_en.label=='bot'].copy()\n",
    "humans = df_en[df_en.label=='human'].sample(frac=0.3).copy()\n",
    "df_small = pd.concat([bots,humans]).reset_index().drop(columns='index')\n",
    "\n",
    "df_clean = preproccesing.preprocessing(\n",
    "                                        df=df_small,\n",
    "                                        lowercase=False, \n",
    "                                        stopwords=False, \n",
    "                                        links=False, \n",
    "                                        tags=False, \n",
    "                                        numbers=False, \n",
    "                                        emojis=False, \n",
    "                                        hashtag=False,\n",
    "                                        rt=False\n",
    "                                       ).copy()\n",
    "\n",
    "data=df_clean.copy()\n",
    "\n",
    "X = data.text\n",
    "y = data.label.map(lambda x: 1 if x=='bot' else 0)"
   ]
  },
  {
   "cell_type": "code",
   "execution_count": 42,
   "id": "faad0131",
   "metadata": {
    "hidden": true
   },
   "outputs": [
    {
     "data": {
      "text/plain": [
       "CountVectorizer(max_features=10000)"
      ]
     },
     "execution_count": 42,
     "metadata": {},
     "output_type": "execute_result"
    }
   ],
   "source": [
    "X_train, X_test, y_train, y_test = train_test_split(\n",
    "                                                    X, \n",
    "                                                    y, \n",
    "                                                    test_size=0.4, \n",
    "                                                    random_state=42\n",
    "                                                   )\n",
    "\n",
    "vectorizer = CountVectorizer(max_features=10000, \n",
    "                             lowercase=True)\n",
    "vectorizer.fit(X_train)"
   ]
  },
  {
   "cell_type": "code",
   "execution_count": 43,
   "id": "a47fa2b7",
   "metadata": {
    "code_folding": [],
    "hidden": true
   },
   "outputs": [],
   "source": [
    "# smoteen\n",
    "sme = SMOTEENN(random_state=42)\n",
    "X_sme, y_sme = sme.fit_resample(vectorizer.transform(X_train).toarray(), y_train)"
   ]
  },
  {
   "cell_type": "code",
   "execution_count": 46,
   "id": "35e2e26b",
   "metadata": {
    "hidden": true
   },
   "outputs": [
    {
     "data": {
      "text/plain": [
       "0.22351487258160743"
      ]
     },
     "execution_count": 46,
     "metadata": {},
     "output_type": "execute_result"
    }
   ],
   "source": [
    "sum(y_train)/len(y_train)"
   ]
  },
  {
   "cell_type": "code",
   "execution_count": 47,
   "id": "4fa3f9f7",
   "metadata": {
    "hidden": true
   },
   "outputs": [
    {
     "data": {
      "image/png": "[encoded data removed]",
      "text/plain": [
       "<Figure size 432x288 with 1 Axes>"
      ]
     },
     "metadata": {
      "needs_background": "light"
     },
     "output_type": "display_data"
    },
    {
     "name": "stdout",
     "output_type": "stream",
     "text": [
      "Imbalance: 0.9878752550276887\n"
     ]
    }
   ],
   "source": [
    "# positive class\n",
    "sns.countplot(x=y_sme)\n",
    "plt.show()\n",
    "print(f'Imbalance: {sum(y_sme)/len(y_sme)}')"
   ]
  },
  {
   "cell_type": "code",
   "execution_count": 49,
   "id": "b5a13a4f",
   "metadata": {
    "hidden": true
   },
   "outputs": [
    {
     "name": "stdout",
     "output_type": "stream",
     "text": [
      "              precision    recall  f1-score   support\n",
      "\n",
      "           0       0.83      0.01      0.02     24386\n",
      "           1       0.22      0.99      0.36      6902\n",
      "\n",
      "    accuracy                           0.23     31288\n",
      "   macro avg       0.53      0.50      0.19     31288\n",
      "weighted avg       0.70      0.23      0.10     31288\n",
      "\n"
     ]
    }
   ],
   "source": [
    "# here's a simple classifier, we can try different ones\n",
    "lg = LogisticRegression()\n",
    "lg.fit(X_sme, y_sme)\n",
    "print(classification_report(y_test, lg.predict(vectorizer.transform(X_test))))"
   ]
  },
  {
   "cell_type": "markdown",
   "id": "c3f5b1d3",
   "metadata": {
    "hidden": true
   },
   "source": [
    "This is taking a lot of time and requires more work as right now is changing the imbalance of the classes (i.e. is not working). I'll move on for now and return to this later "
   ]
  },
  {
   "cell_type": "markdown",
   "id": "7645f4fe",
   "metadata": {
    "heading_collapsed": true
   },
   "source": [
    "# Cleaning"
   ]
  },
  {
   "cell_type": "markdown",
   "id": "3f718f16",
   "metadata": {
    "hidden": true
   },
   "source": [
    "We stick to the downsampled dataset and now measure the impact of cleanning on performance"
   ]
  },
  {
   "cell_type": "code",
   "execution_count": 50,
   "id": "f3b4f4be",
   "metadata": {
    "hidden": true
   },
   "outputs": [],
   "source": [
    "bots = df_en[df_en.label=='bot'].copy()\n",
    "humans = df_en[df_en.label=='human'].sample(frac=0.0857).copy()\n",
    "df_small = pd.concat([bots,humans]).reset_index().drop(columns='index')"
   ]
  },
  {
   "cell_type": "code",
   "execution_count": 60,
   "id": "70b7c2f5",
   "metadata": {
    "code_folding": [
     8
    ],
    "hidden": true,
    "scrolled": true
   },
   "outputs": [
    {
     "name": "stdout",
     "output_type": "stream",
     "text": [
      "stopwords True\n",
      "              precision    recall  f1-score   support\n",
      "\n",
      "           0       0.54      0.56      0.55      6947\n",
      "           1       0.54      0.52      0.53      6961\n",
      "\n",
      "    accuracy                           0.54     13908\n",
      "   macro avg       0.54      0.54      0.54     13908\n",
      "weighted avg       0.54      0.54      0.54     13908\n",
      "\n",
      "\n",
      "\n",
      "links True\n",
      "              precision    recall  f1-score   support\n",
      "\n",
      "           0       0.54      0.55      0.54      6947\n",
      "           1       0.54      0.52      0.53      6961\n",
      "\n",
      "    accuracy                           0.54     13908\n",
      "   macro avg       0.54      0.54      0.54     13908\n",
      "weighted avg       0.54      0.54      0.54     13908\n",
      "\n",
      "\n",
      "\n",
      "tags True\n",
      "              precision    recall  f1-score   support\n",
      "\n",
      "           0       0.54      0.56      0.55      6947\n",
      "           1       0.54      0.52      0.53      6961\n",
      "\n",
      "    accuracy                           0.54     13908\n",
      "   macro avg       0.54      0.54      0.54     13908\n",
      "weighted avg       0.54      0.54      0.54     13908\n",
      "\n",
      "\n",
      "\n",
      "numbers True\n",
      "              precision    recall  f1-score   support\n",
      "\n",
      "           0       0.54      0.55      0.55      6947\n",
      "           1       0.54      0.53      0.53      6961\n",
      "\n",
      "    accuracy                           0.54     13908\n",
      "   macro avg       0.54      0.54      0.54     13908\n",
      "weighted avg       0.54      0.54      0.54     13908\n",
      "\n",
      "\n",
      "\n",
      "emojis True\n",
      "              precision    recall  f1-score   support\n",
      "\n",
      "           0       0.54      0.55      0.54      6947\n",
      "           1       0.54      0.53      0.53      6961\n",
      "\n",
      "    accuracy                           0.54     13908\n",
      "   macro avg       0.54      0.54      0.54     13908\n",
      "weighted avg       0.54      0.54      0.54     13908\n",
      "\n",
      "\n",
      "\n",
      "hashtag True\n",
      "              precision    recall  f1-score   support\n",
      "\n",
      "           0       0.53      0.53      0.53      6947\n",
      "           1       0.53      0.53      0.53      6961\n",
      "\n",
      "    accuracy                           0.53     13908\n",
      "   macro avg       0.53      0.53      0.53     13908\n",
      "weighted avg       0.53      0.53      0.53     13908\n",
      "\n",
      "\n",
      "\n",
      "rt True\n",
      "              precision    recall  f1-score   support\n",
      "\n",
      "           0       0.54      0.55      0.55      6947\n",
      "           1       0.54      0.52      0.53      6961\n",
      "\n",
      "    accuracy                           0.54     13908\n",
      "   macro avg       0.54      0.54      0.54     13908\n",
      "weighted avg       0.54      0.54      0.54     13908\n",
      "\n",
      "\n",
      "\n"
     ]
    }
   ],
   "source": [
    "params = {'stopwords':False, \n",
    "          'links':False, \n",
    "          'tags':False, \n",
    "          'numbers':False, \n",
    "          'emojis':False, \n",
    "          'hashtag':False,\n",
    "          'rt':False}\n",
    "\n",
    "for p, v in zip(params.keys(), params.values()):\n",
    "    args = params.copy()\n",
    "    args[p] = not v\n",
    "    df_clean = preproccesing.preprocessing(df=df_small, **args).copy()\n",
    "    data=df_clean.copy()\n",
    "    \n",
    "    X_balanced = data.text\n",
    "    y_balanced = data.label.map(lambda x: 1 if x=='bot' else 0)\n",
    "    \n",
    "    X_train, X_test, y_train, y_test = train_test_split(\n",
    "                                                    X_balanced, \n",
    "                                                    y_balanced, \n",
    "                                                    test_size=0.4, \n",
    "                                                    random_state=42\n",
    "                                                   )\n",
    "    \n",
    "    vectorizer = CountVectorizer(max_features=10000, \n",
    "                             lowercase=True)\n",
    "    vectorizer.fit(X_train)\n",
    "    \n",
    "    # here's a simple classifier, we can try different ones\n",
    "    lg = LogisticRegression()\n",
    "    lg.fit(vectorizer.transform(X_train).toarray(), y_train)\n",
    "    print(p, args[p])\n",
    "    print(classification_report(y_test, lg.predict(vectorizer.transform(X_test))))\n",
    "    print('\\n')"
   ]
  },
  {
   "cell_type": "code",
   "execution_count": 61,
   "id": "2031b701",
   "metadata": {
    "code_folding": [],
    "hidden": true
   },
   "outputs": [
    {
     "name": "stdout",
     "output_type": "stream",
     "text": [
      "{'stopwords': True, 'links': True, 'tags': True, 'numbers': True, 'emojis': True, 'hashtag': True, 'rt': True}\n",
      "              precision    recall  f1-score   support\n",
      "\n",
      "           0       0.53      0.52      0.53      6947\n",
      "           1       0.53      0.54      0.54      6961\n",
      "\n",
      "    accuracy                           0.53     13908\n",
      "   macro avg       0.53      0.53      0.53     13908\n",
      "weighted avg       0.53      0.53      0.53     13908\n",
      "\n",
      "\n",
      "\n"
     ]
    }
   ],
   "source": [
    "# effect of combined cleanning\n",
    "params = {'stopwords':False, \n",
    "          'links':False, \n",
    "          'tags':False, \n",
    "          'numbers':False, \n",
    "          'emojis':False, \n",
    "          'hashtag':False,\n",
    "          'rt':False}\n",
    "args = params.copy()\n",
    "for p, v in zip(params.keys(), params.values()):\n",
    "    args[p] = not v\n",
    "\n",
    "print(args)\n",
    "df_clean = preproccesing.preprocessing(df=df_small, **args).copy()\n",
    "data=df_clean.copy()\n",
    "\n",
    "\n",
    "X_balanced = data.text\n",
    "y_balanced = data.label.map(lambda x: 1 if x=='bot' else 0)\n",
    "\n",
    "\n",
    "X_train, X_test, y_train, y_test = train_test_split(\n",
    "                                        X_balanced, \n",
    "                                        y_balanced, \n",
    "                                        test_size=0.4, \n",
    "                                        random_state=42\n",
    "                                    )\n",
    "\n",
    "\n",
    "vectorizer = CountVectorizer(max_features=10000, \n",
    "                                lowercase=True)\n",
    "vectorizer.fit(X_train)\n",
    "\n",
    "\n",
    "# here's a simple classifier, we can try different ones\n",
    "lg = LogisticRegression()\n",
    "lg.fit(vectorizer.transform(X_train).toarray(), y_train)\n",
    "print(classification_report(y_test, lg.predict(vectorizer.transform(X_test))))"
   ]
  },
  {
   "cell_type": "markdown",
   "id": "12b6e5e4",
   "metadata": {},
   "source": [
    "# Representations\n",
    "\n",
    "So far, we have been able to improve our model's performance by downsampling the majority class. We also learnt that preprocessing, altghough useful, isn't going to radically change the classification performance. We have done this using the simplest of encoders (Count Vectorizer) and a very simple model (Logistic Regression).\n",
    "\n",
    "Now that we know this approaches won't be enough, it's time to get more sophisticated. \n",
    "\n",
    "We'll start by using a better counting encoder: Tfidf Vectorizer. If we don't see enough improvement, we'll finally move to transformers. "
   ]
  },
  {
   "cell_type": "code",
   "execution_count": 9,
   "id": "37f5d06b",
   "metadata": {},
   "outputs": [],
   "source": [
    "bots = df_en[df_en.label=='bot'].copy()\n",
    "humans = df_en[df_en.label=='human'].sample(frac=0.3).copy()\n",
    "df_small = pd.concat([bots,humans]).reset_index().drop(columns='index')\n",
    "params = {'stopwords':False, \n",
    "          'links':False, \n",
    "          'tags':False, \n",
    "          'numbers':False, \n",
    "          'emojis':False, \n",
    "          'hashtag':False,\n",
    "          'rt':False}\n",
    "args = params.copy()\n",
    "#for p, v in zip(params.keys(), params.values()):\n",
    "#    args[p] = not v\n",
    "df_clean = preproccesing.preprocessing(df=df_small, **args).copy()\n",
    "data=df_clean.copy()\n",
    "X_balanced = data.text\n",
    "y_balanced = data.label.map(lambda x: 1 if x=='bot' else 0)\n",
    "#X_train, X_test, y_train, y_test = train_test_split(\n",
    "#                                        X_balanced, \n",
    "#                                        y_balanced, \n",
    "#                                        test_size=0.4, \n",
    "#                                        random_state=42\n",
    "#                                    )"
   ]
  },
  {
   "cell_type": "markdown",
   "id": "693f6234",
   "metadata": {
    "heading_collapsed": true
   },
   "source": [
    "## Tfidf Vectorizer"
   ]
  },
  {
   "cell_type": "code",
   "execution_count": 4,
   "id": "70f01285",
   "metadata": {
    "hidden": true
   },
   "outputs": [
    {
     "data": {
      "text/plain": [
       "TfidfVectorizer(max_features=10000)"
      ]
     },
     "execution_count": 4,
     "metadata": {},
     "output_type": "execute_result"
    }
   ],
   "source": [
    "vectorizer = TfidfVectorizer(max_features=10000)\n",
    "vectorizer.fit(X_balanced)"
   ]
  },
  {
   "cell_type": "code",
   "execution_count": 64,
   "id": "6fde92ad",
   "metadata": {
    "hidden": true
   },
   "outputs": [
    {
     "name": "stdout",
     "output_type": "stream",
     "text": [
      "              precision    recall  f1-score   support\n",
      "\n",
      "           0       0.54      0.53      0.53      6947\n",
      "           1       0.54      0.55      0.55      6961\n",
      "\n",
      "    accuracy                           0.54     13908\n",
      "   macro avg       0.54      0.54      0.54     13908\n",
      "weighted avg       0.54      0.54      0.54     13908\n",
      "\n"
     ]
    }
   ],
   "source": [
    "# here's a simple classifier, we can try different ones\n",
    "lg = LogisticRegression()\n",
    "lg.fit(vectorizer.transform(X_train).toarray(), y_train)\n",
    "print(classification_report(y_test, lg.predict(vectorizer.transform(X_test))))"
   ]
  },
  {
   "cell_type": "markdown",
   "id": "46ac2313",
   "metadata": {
    "hidden": true
   },
   "source": [
    "Once again, no improvement. Let's go to the transformers"
   ]
  },
  {
   "cell_type": "markdown",
   "id": "18cd9bb4",
   "metadata": {},
   "source": [
    "## Transformers"
   ]
  },
  {
   "cell_type": "markdown",
   "id": "56b12754",
   "metadata": {},
   "source": [
    "Note that we'll test first without cleaning and then with full cleaning. But before doing that, we'll stick with the top 10k most frequent words for memory reasons. To do that, we can use the Tfidf Vectorizer we just trained"
   ]
  },
  {
   "cell_type": "code",
   "execution_count": 10,
   "id": "4aa2cce6",
   "metadata": {},
   "outputs": [
    {
     "data": {
      "text/plain": [
       "60"
      ]
     },
     "execution_count": 10,
     "metadata": {},
     "output_type": "execute_result"
    }
   ],
   "source": [
    "del bots, humans, df_small, df_clean, data, X_balanced, y_balanced\n",
    "gc.collect()"
   ]
  },
  {
   "cell_type": "code",
   "execution_count": 11,
   "id": "a2b8f3fa",
   "metadata": {},
   "outputs": [],
   "source": [
    "bots = df_en[df_en.label=='bot'].copy()\n",
    "humans = df_en[df_en.label=='human'].sample(frac=0.2).copy()\n",
    "df_small = pd.concat([bots,humans]).reset_index().drop(columns='index')\n",
    "params = {'lower':False,\n",
    "          'stopwords':False, \n",
    "          'links':False, \n",
    "          'tags':False, \n",
    "          'numbers':False, \n",
    "          'emojis':False, \n",
    "          'hashtag':False,\n",
    "          'rt':False}\n",
    "df_clean = preproccesing.preprocessing(df=df_small, **args).copy()\n",
    "data=df_clean.copy()\n",
    "\n",
    "X_balanced = data.text\n",
    "y_balanced = data.label.map(lambda x: 1 if x=='bot' else 0)\n",
    "X_train, X_test, y_train, y_test = train_test_split(\n",
    "                                        X_balanced, \n",
    "                                        y_balanced, \n",
    "                                        test_size=0.4, \n",
    "                                        random_state=42\n",
    "                                    )"
   ]
  },
  {
   "cell_type": "code",
   "execution_count": 14,
   "id": "f8984e22",
   "metadata": {
    "code_folding": [
     0
    ]
   },
   "outputs": [],
   "source": [
    "def get_representation(data, \n",
    "                       model_name='distilbert-base-uncased', \n",
    "                       splits=30):\n",
    "    tokenizer = AutoTokenizer.from_pretrained(model_name)\n",
    "    model = AutoModel.from_pretrained(model_name)\n",
    "    tokens = tokenizer(list(data.values),\n",
    "                   truncation=True, \n",
    "                   max_length=128,\n",
    "                   return_tensors='pt', \n",
    "                   padding=True)\n",
    "    \n",
    "    ids = np.array_split(tokens.input_ids, splits)\n",
    "    attentions = np.array_split(tokens.attention_mask, splits)\n",
    "    emb_dim = model.config.dim\n",
    "    representation = np.zeros((1,emb_dim))\n",
    "    i = 0\n",
    "    for batch_input, batch_attention in zip(ids, attentions):\n",
    "        embd_batch = model(input_ids=batch_input,\n",
    "                           attention_mask=batch_attention,\n",
    "                           output_attentions=False, \n",
    "                           output_hidden_states=False)\n",
    "        # tweet representation\n",
    "        mean_emb_batch = torch.mean(embd_batch.last_hidden_state, axis=1)\n",
    "        \n",
    "        representation_batch = mean_emb_batch.detach().numpy()\n",
    "        representation = np.concatenate((representation, representation_batch), axis=0)\n",
    "        del embd_batch, mean_emb_batch, representation_batch\n",
    "        gc.collect()\n",
    "        i+=1\n",
    "        print(f'Done {i}/{splits}')\n",
    "    gc.collect() \n",
    "    return representation[1:,:]\n",
    "        "
   ]
  },
  {
   "cell_type": "code",
   "execution_count": 15,
   "id": "dee9ba85",
   "metadata": {},
   "outputs": [
    {
     "name": "stderr",
     "output_type": "stream",
     "text": [
      "Some weights of the model checkpoint at distilbert-base-uncased were not used when initializing DistilBertModel: ['vocab_transform.weight', 'vocab_layer_norm.bias', 'vocab_transform.bias', 'vocab_projector.weight', 'vocab_layer_norm.weight', 'vocab_projector.bias']\n",
      "- This IS expected if you are initializing DistilBertModel from the checkpoint of a model trained on another task or with another architecture (e.g. initializing a BertForSequenceClassification model from a BertForPreTraining model).\n",
      "- This IS NOT expected if you are initializing DistilBertModel from the checkpoint of a model that you expect to be exactly identical (initializing a BertForSequenceClassification model from a BertForSequenceClassification model).\n"
     ]
    },
    {
     "name": "stdout",
     "output_type": "stream",
     "text": [
      "Done 1/50\n",
      "Done 2/50\n",
      "Done 3/50\n",
      "Done 4/50\n",
      "Done 5/50\n",
      "Done 6/50\n",
      "Done 7/50\n",
      "Done 8/50\n",
      "Done 9/50\n",
      "Done 10/50\n",
      "Done 11/50\n",
      "Done 12/50\n",
      "Done 13/50\n",
      "Done 14/50\n",
      "Done 15/50\n",
      "Done 16/50\n",
      "Done 17/50\n",
      "Done 18/50\n",
      "Done 19/50\n",
      "Done 20/50\n",
      "Done 21/50\n",
      "Done 22/50\n",
      "Done 23/50\n",
      "Done 24/50\n",
      "Done 25/50\n",
      "Done 26/50\n",
      "Done 27/50\n",
      "Done 28/50\n",
      "Done 29/50\n",
      "Done 30/50\n",
      "Done 31/50\n",
      "Done 32/50\n",
      "Done 33/50\n",
      "Done 34/50\n",
      "Done 35/50\n",
      "Done 36/50\n",
      "Done 37/50\n",
      "Done 38/50\n",
      "Done 39/50\n",
      "Done 40/50\n",
      "Done 41/50\n",
      "Done 42/50\n",
      "Done 43/50\n",
      "Done 44/50\n",
      "Done 45/50\n",
      "Done 46/50\n",
      "Done 47/50\n",
      "Done 48/50\n",
      "Done 49/50\n",
      "Done 50/50\n"
     ]
    }
   ],
   "source": [
    "X_train_emb = get_representation(data=X_train, \n",
    "                                 model_name='distilbert-base-uncased', \n",
    "                                 splits=50)"
   ]
  },
  {
   "cell_type": "code",
   "execution_count": 16,
   "id": "604c30dc",
   "metadata": {},
   "outputs": [
    {
     "name": "stderr",
     "output_type": "stream",
     "text": [
      "Some weights of the model checkpoint at distilbert-base-uncased were not used when initializing DistilBertModel: ['vocab_transform.weight', 'vocab_layer_norm.bias', 'vocab_transform.bias', 'vocab_projector.weight', 'vocab_layer_norm.weight', 'vocab_projector.bias']\n",
      "- This IS expected if you are initializing DistilBertModel from the checkpoint of a model trained on another task or with another architecture (e.g. initializing a BertForSequenceClassification model from a BertForPreTraining model).\n",
      "- This IS NOT expected if you are initializing DistilBertModel from the checkpoint of a model that you expect to be exactly identical (initializing a BertForSequenceClassification model from a BertForSequenceClassification model).\n"
     ]
    },
    {
     "name": "stdout",
     "output_type": "stream",
     "text": [
      "Done 1/50\n",
      "Done 2/50\n",
      "Done 3/50\n",
      "Done 4/50\n",
      "Done 5/50\n",
      "Done 6/50\n",
      "Done 7/50\n",
      "Done 8/50\n",
      "Done 9/50\n",
      "Done 10/50\n",
      "Done 11/50\n",
      "Done 12/50\n",
      "Done 13/50\n",
      "Done 14/50\n",
      "Done 15/50\n",
      "Done 16/50\n",
      "Done 17/50\n",
      "Done 18/50\n",
      "Done 19/50\n",
      "Done 20/50\n",
      "Done 21/50\n",
      "Done 22/50\n",
      "Done 23/50\n",
      "Done 24/50\n",
      "Done 25/50\n",
      "Done 26/50\n",
      "Done 27/50\n",
      "Done 28/50\n",
      "Done 29/50\n",
      "Done 30/50\n",
      "Done 31/50\n",
      "Done 32/50\n",
      "Done 33/50\n",
      "Done 34/50\n",
      "Done 35/50\n",
      "Done 36/50\n",
      "Done 37/50\n",
      "Done 38/50\n",
      "Done 39/50\n",
      "Done 40/50\n",
      "Done 41/50\n",
      "Done 42/50\n",
      "Done 43/50\n",
      "Done 44/50\n",
      "Done 45/50\n",
      "Done 46/50\n",
      "Done 47/50\n",
      "Done 48/50\n",
      "Done 49/50\n",
      "Done 50/50\n"
     ]
    }
   ],
   "source": [
    "X_test_emb = get_representation(data=X_test, \n",
    "                                 model_name='distilbert-base-uncased', \n",
    "                                 splits=50)"
   ]
  },
  {
   "cell_type": "code",
   "execution_count": null,
   "id": "a7e21e14",
   "metadata": {},
   "outputs": [],
   "source": []
  },
  {
   "cell_type": "code",
   "execution_count": null,
   "id": "c8827852",
   "metadata": {},
   "outputs": [],
   "source": []
  },
  {
   "cell_type": "code",
   "execution_count": 9,
   "id": "75eaceff",
   "metadata": {},
   "outputs": [],
   "source": [
    "for i, v in zip(X_train.index, X_train.values):\n",
    "    X_train.loc[i] = ' '.join([i for i in v.split(' ') if i in vectorizer.vocabulary_])"
   ]
  },
  {
   "cell_type": "code",
   "execution_count": 10,
   "id": "c0e6a7d3",
   "metadata": {},
   "outputs": [],
   "source": [
    "model_name = 'distilbert-base-uncased'\n",
    "tokenizer = AutoTokenizer.from_pretrained(model_name)\n",
    "tokens = tokenizer(list(X_train.values),\n",
    "                   truncation=True, \n",
    "                   max_length=128,\n",
    "                   return_tensors='pt', \n",
    "                   padding=True)"
   ]
  },
  {
   "cell_type": "code",
   "execution_count": 11,
   "id": "f439af66",
   "metadata": {},
   "outputs": [
    {
     "name": "stderr",
     "output_type": "stream",
     "text": [
      "Some weights of the model checkpoint at distilbert-base-uncased were not used when initializing DistilBertModel: ['vocab_layer_norm.bias', 'vocab_layer_norm.weight', 'vocab_transform.weight', 'vocab_projector.weight', 'vocab_projector.bias', 'vocab_transform.bias']\n",
      "- This IS expected if you are initializing DistilBertModel from the checkpoint of a model trained on another task or with another architecture (e.g. initializing a BertForSequenceClassification model from a BertForPreTraining model).\n",
      "- This IS NOT expected if you are initializing DistilBertModel from the checkpoint of a model that you expect to be exactly identical (initializing a BertForSequenceClassification model from a BertForSequenceClassification model).\n"
     ]
    }
   ],
   "source": [
    "model = AutoModel.from_pretrained(model_name)"
   ]
  },
  {
   "cell_type": "code",
   "execution_count": 25,
   "id": "ee7c4120",
   "metadata": {},
   "outputs": [
    {
     "name": "stdout",
     "output_type": "stream",
     "text": [
      "Done 1/30\n",
      "Done 2/30\n",
      "Done 3/30\n",
      "Done 4/30\n",
      "Done 5/30\n",
      "Done 6/30\n",
      "Done 7/30\n",
      "Done 8/30\n",
      "Done 9/30\n",
      "Done 10/30\n",
      "Done 11/30\n",
      "Done 12/30\n",
      "Done 13/30\n",
      "Done 14/30\n",
      "Done 15/30\n",
      "Done 16/30\n",
      "Done 17/30\n",
      "Done 18/30\n",
      "Done 19/30\n",
      "Done 20/30\n",
      "Done 21/30\n",
      "Done 22/30\n",
      "Done 23/30\n",
      "Done 24/30\n",
      "Done 25/30\n",
      "Done 26/30\n",
      "Done 27/30\n",
      "Done 28/30\n",
      "Done 29/30\n",
      "Done 30/30\n"
     ]
    }
   ],
   "source": [
    "resp = get_representation(tokens=tokens, \n",
    "                          model=model, \n",
    "                          splits=30)"
   ]
  },
  {
   "cell_type": "code",
   "execution_count": 17,
   "id": "1bfe5929",
   "metadata": {},
   "outputs": [
    {
     "name": "stdout",
     "output_type": "stream",
     "text": [
      "              precision    recall  f1-score   support\n",
      "\n",
      "           0       0.71      0.96      0.82     16176\n",
      "           1       0.56      0.11      0.18      7002\n",
      "\n",
      "    accuracy                           0.70     23178\n",
      "   macro avg       0.64      0.54      0.50     23178\n",
      "weighted avg       0.67      0.70      0.63     23178\n",
      "\n"
     ]
    }
   ],
   "source": [
    "lg = LogisticRegression()\n",
    "lg.fit(X_train_emb, y_train)\n",
    "print(classification_report(y_test, lg.predict(X_test_emb)))"
   ]
  },
  {
   "cell_type": "code",
   "execution_count": 18,
   "id": "9a9f5520",
   "metadata": {},
   "outputs": [
    {
     "name": "stdout",
     "output_type": "stream",
     "text": [
      "              precision    recall  f1-score   support\n",
      "\n",
      "           0       0.72      0.91      0.80     16176\n",
      "           1       0.44      0.17      0.24      7002\n",
      "\n",
      "    accuracy                           0.68     23178\n",
      "   macro avg       0.58      0.54      0.52     23178\n",
      "weighted avg       0.63      0.68      0.63     23178\n",
      "\n"
     ]
    }
   ],
   "source": [
    "xgb = XGBClassifier()\n",
    "xgb.fit(X_train_emb, y_train)\n",
    "print(classification_report(y_test, xgb.predict(X_test_emb)))"
   ]
  },
  {
   "cell_type": "code",
   "execution_count": 21,
   "id": "b862b880",
   "metadata": {},
   "outputs": [
    {
     "data": {
      "text/plain": [
       "<matplotlib.legend.Legend at 0x19a483a2280>"
      ]
     },
     "execution_count": 21,
     "metadata": {},
     "output_type": "execute_result"
    },
    {
     "data": {
      "image/png": "[encoded data removed]",
      "text/plain": [
       "<Figure size 432x288 with 1 Axes>"
      ]
     },
     "metadata": {
      "needs_background": "light"
     },
     "output_type": "display_data"
    }
   ],
   "source": [
    "y_true = y_test\n",
    "y_pre = xgb.predict(X_test_emb)\n",
    "ax1=plt.subplot(111)\n",
    "fpr, tpr, thresholds = roc_curve(y_true, y_pre)\n",
    "roc_auc = auc(fpr, tpr)\n",
    "ax1.plot(fpr, tpr, lw=1, alpha=0.3,label='(AUC = %0.2f)'%roc_auc)\n",
    "ax1.plot([0, 1], [0, 1], linestyle='--', lw=2, color='r', label='Chance', alpha=.8)\n",
    "ax1.set_xlim([-0.05, 1.05])\n",
    "ax1.set_ylim([-0.05, 1.05])\n",
    "ax1.set_xlabel('False Positive Rate')\n",
    "ax1.set_ylabel('True Positive Rate')\n",
    "ax1.set_title('ROC curve ')\n",
    "ax1.legend(loc='best')\n",
    "    "
   ]
  },
  {
   "cell_type": "code",
   "execution_count": null,
   "id": "5ac8d75a",
   "metadata": {},
   "outputs": [],
   "source": []
  },
  {
   "cell_type": "code",
   "execution_count": null,
   "id": "49f03d03",
   "metadata": {},
   "outputs": [],
   "source": []
  },
  {
   "cell_type": "code",
   "execution_count": null,
   "id": "0b60b4ff",
   "metadata": {},
   "outputs": [],
   "source": []
  },
  {
   "cell_type": "code",
   "execution_count": null,
   "id": "f9791e8f",
   "metadata": {},
   "outputs": [],
   "source": []
  },
  {
   "cell_type": "code",
   "execution_count": null,
   "id": "d82a4061",
   "metadata": {},
   "outputs": [],
   "source": []
  },
  {
   "cell_type": "code",
   "execution_count": null,
   "id": "10e50642",
   "metadata": {},
   "outputs": [],
   "source": []
  },
  {
   "cell_type": "code",
   "execution_count": null,
   "id": "f86ef8c1",
   "metadata": {},
   "outputs": [],
   "source": [
    "model_name = 'distilbert-base-uncased'\n",
    "tokenizer = AutoTokenizer.from_pretrained(model_name)"
   ]
  },
  {
   "cell_type": "code",
   "execution_count": 6,
   "id": "50c60ee8",
   "metadata": {
    "code_folding": [
     4,
     10
    ]
   },
   "outputs": [
    {
     "ename": "NameError",
     "evalue": "name 'model_name' is not defined",
     "output_type": "error",
     "traceback": [
      "\u001b[1;31m---------------------------------------------------------------------------\u001b[0m",
      "\u001b[1;31mNameError\u001b[0m                                 Traceback (most recent call last)",
      "\u001b[1;32m<ipython-input-6-9ed7aad4aab0>\u001b[0m in \u001b[0;36m<module>\u001b[1;34m\u001b[0m\n\u001b[0;32m      4\u001b[0m     \u001b[0mj\u001b[0m \u001b[1;33m=\u001b[0m \u001b[1;36m0\u001b[0m\u001b[1;33m\u001b[0m\u001b[1;33m\u001b[0m\u001b[0m\n\u001b[0;32m      5\u001b[0m     \u001b[1;32mfor\u001b[0m \u001b[0md_i\u001b[0m \u001b[1;32min\u001b[0m \u001b[0mnp\u001b[0m\u001b[1;33m.\u001b[0m\u001b[0marray_split\u001b[0m\u001b[1;33m(\u001b[0m\u001b[0mdata\u001b[0m\u001b[1;33m,\u001b[0m \u001b[0msplits\u001b[0m\u001b[1;33m)\u001b[0m\u001b[1;33m:\u001b[0m\u001b[1;33m\u001b[0m\u001b[1;33m\u001b[0m\u001b[0m\n\u001b[1;32m----> 6\u001b[1;33m         \u001b[0mrepresentations\u001b[0m \u001b[1;33m=\u001b[0m \u001b[0membeddings\u001b[0m\u001b[1;33m.\u001b[0m\u001b[0mget_representation\u001b[0m\u001b[1;33m(\u001b[0m\u001b[0mmodel_name\u001b[0m\u001b[1;33m,\u001b[0m \u001b[0mlist\u001b[0m\u001b[1;33m(\u001b[0m\u001b[0mdf_clean\u001b[0m\u001b[1;33m.\u001b[0m\u001b[0mtext\u001b[0m\u001b[1;33m.\u001b[0m\u001b[0mvalues\u001b[0m\u001b[1;33m)\u001b[0m\u001b[1;33m)\u001b[0m\u001b[1;33m\u001b[0m\u001b[1;33m\u001b[0m\u001b[0m\n\u001b[0m\u001b[0;32m      7\u001b[0m         \u001b[0mresult\u001b[0m\u001b[1;33m.\u001b[0m\u001b[0mappend\u001b[0m\u001b[1;33m(\u001b[0m\u001b[0mrepresentations\u001b[0m\u001b[1;33m.\u001b[0m\u001b[0mlast_hidden_state\u001b[0m\u001b[1;33m)\u001b[0m\u001b[1;33m\u001b[0m\u001b[1;33m\u001b[0m\u001b[0m\n\u001b[0;32m      8\u001b[0m         \u001b[0mj\u001b[0m \u001b[1;33m+=\u001b[0m \u001b[1;36m1\u001b[0m\u001b[1;33m\u001b[0m\u001b[1;33m\u001b[0m\u001b[0m\n",
      "\u001b[1;31mNameError\u001b[0m: name 'model_name' is not defined"
     ]
    }
   ],
   "source": [
    "model_name = 'distilbert-base-uncased'\n",
    "result = []\n",
    "splits = round(data.shape[0] / 100)\n",
    "if splits > 1:\n",
    "    j = 0\n",
    "    for d_i in np.array_split(data, splits):\n",
    "        representations = embeddings.get_representation(model_name, list(df_clean.text.values))\n",
    "        result.append(representations.last_hidden_state)\n",
    "        j += 1\n",
    "        print(f'--- {j}/{splits} ---')\n",
    "else:\n",
    "    print('Nothing to do')"
   ]
  },
  {
   "cell_type": "code",
   "execution_count": null,
   "id": "eb4daba8",
   "metadata": {},
   "outputs": [],
   "source": [
    "\n",
    "representations = embeddings.get_representation(model_name, list(df_clean.text.values))"
   ]
  }
 ],
 "metadata": {
  "kernelspec": {
   "display_name": "Python 3",
   "language": "python",
   "name": "python3"
  },
  "language_info": {
   "codemirror_mode": {
    "name": "ipython",
    "version": 3
   },
   "file_extension": ".py",
   "mimetype": "text/x-python",
   "name": "python",
   "nbconvert_exporter": "python",
   "pygments_lexer": "ipython3",
   "version": "3.8.8"
  }
 },
 "nbformat": 4,
 "nbformat_minor": 5
}
