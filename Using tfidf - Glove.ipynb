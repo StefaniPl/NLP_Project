{
 "cells": [
  {
   "cell_type": "code",
   "execution_count": null,
   "id": "cdac96fc",
   "metadata": {},
   "outputs": [],
   "source": [
    "# imports\n",
    "import pandas as pd\n",
    "import seaborn as sns\n",
    "import numpy as np\n",
    "from sklearn.feature_extraction.text import CountVectorizer, HashingVectorizer, TfidfVectorizer\n",
    "from sklearn.feature_extraction import _stop_words as stop_words\n",
    "from sklearn.model_selection import train_test_split, cross_validate\n",
    "import xgboost as xgb\n",
    "from sklearn.linear_model import LogisticRegression\n",
    "from sklearn.ensemble import RandomForestClassifier\n",
    "from sklearn.neighbors import KNeighborsClassifier\n",
    "from sklearn.metrics import accuracy_score, f1_score, classification_report, roc_curve, auc, confusion_matrix\n",
    "import matplotlib.pyplot as plt\n",
    "from gensim.utils import tokenize\n",
    "import nltk\n",
    "nltk.download('wordnet')\n",
    "from nltk.stem import WordNetLemmatizer\n",
    "import gensim.downloader\n",
    "from sklearn.preprocessing import StandardScaler"
   ]
  },
  {
   "cell_type": "code",
   "execution_count": null,
   "id": "ffe4f7ac",
   "metadata": {},
   "outputs": [],
   "source": [
    "# x_train_sample is text \n",
    "# count vectorizer is the most simple thing we can do. You can read the documentation on Sklearn\n",
    "\n",
    "vectorizer = CountVectorizer(min_df=0, \n",
    "                             lowercase=True)\n",
    "vectorizer.fit(x_train_sample)"
   ]
  },
  {
   "cell_type": "code",
   "execution_count": null,
   "id": "d3b19f69",
   "metadata": {},
   "outputs": [],
   "source": [
    "# here's a simple classifier, we can try different ones\n",
    "lg = LogisticRegression()\n",
    "lg.fit(vectorizer.transform(x_train_sample).toarray(), y_train_sample)\n",
    "print(classification_report(y_test_sample, lg.predict(vectorizer.transform(x_test_sample))))"
   ]
  },
  {
   "cell_type": "code",
   "execution_count": null,
   "id": "e104d081",
   "metadata": {},
   "outputs": [],
   "source": [
    "# Here are three examples of different vectorizers, including Tf-Idf\n",
    "# Three vectorizers\n",
    "hash_vectorizer = HashingVectorizer(lowercase = True, \n",
    "                                    n_features = 3513)\n",
    "hash_x_train_full = hash_vectorizer.fit_transform(x_train_full)\n",
    "hash_x_test_full = hash_vectorizer.transform(x_test_full)\n",
    "lg = LogisticRegression()\n",
    "lg.fit(hash_x_train_full, y_train_full)\n",
    "print('Hash vectorizer accuracy:',round(accuracy_score(y_test_full,lg.predict(hash_x_test_full)),4))\n",
    "print('Hash vectorizer f1:',round(f1_score(y_test_full,lg.predict(hash_x_test_full)),4))\n",
    "print(\"\\n\")\n",
    "del lg\n",
    "\n",
    "tfidf_vectorizer = TfidfVectorizer(lowercase=True, \n",
    "                                   max_features=1000, \n",
    "                                   min_df=0, \n",
    "                                   ngram_range=(1,3), \n",
    "                                   stop_words = \"english\")\n",
    "tdidf_x_train_full = tfidf_vectorizer.fit_transform(x_train_full)\n",
    "tdidf_x_test_full = tfidf_vectorizer.transform(x_test_full)\n",
    "lg = LogisticRegression()\n",
    "lg.fit(tdidf_x_train_full, y_train_full)\n",
    "print('Tfidf vectorizer accuracy:',round(accuracy_score(y_test_full,lg.predict(tdidf_x_test_full)),4))\n",
    "print('Tfidf vectorizer f1:',round(f1_score(y_test_full,lg.predict(tdidf_x_test_full)),4))\n",
    "print(\"\\n\")\n",
    "del lg\n",
    "\n",
    "count_vectorizer = CountVectorizer(min_df=0, \n",
    "                                   lowercase=True)\n",
    "count_x_train_full = count_vectorizer.fit_transform(x_train_full)\n",
    "count_x_test_full = count_vectorizer.transform(x_test_full)\n",
    "lg = LogisticRegression(max_iter=1000)\n",
    "lg.fit(count_x_train_full, y_train_full)\n",
    "print('Count vectorizer accuracy:',round(accuracy_score(y_test_full,lg.predict(count_x_test_full)),4))\n",
    "print('Count vectorizer f1:',round(f1_score(y_test_full,lg.predict(count_x_test_full)),4))\n",
    "del lg\n",
    "\n"
   ]
  },
  {
   "cell_type": "code",
   "execution_count": null,
   "id": "9669b4f2",
   "metadata": {},
   "outputs": [],
   "source": [
    "# Here's Glove\n",
    "# example\n",
    "glove_vectors = gensim.downloader.load('glove-wiki-gigaword-100')"
   ]
  },
  {
   "cell_type": "code",
   "execution_count": null,
   "id": "bbf8dd5c",
   "metadata": {},
   "outputs": [],
   "source": [
    "# And this is the dumbest way of using it\n",
    "# returns a word embedding representation of the review as the mean of the embeddings of each word after processing\n",
    "def embbed_review(text, vectors):\n",
    "    final_vector = np.zeros(vectors.vector_size)\n",
    "    count = 0\n",
    "    for token in list(tokenize(text)):\n",
    "        try:\n",
    "            final_vector += vectors[token]\n",
    "            count += 1\n",
    "        except:\n",
    "            print(token)\n",
    "            pass\n",
    "    if count == 0:\n",
    "        return np.zeros(vectors.vector_size) + np.nan\n",
    "    \n",
    "    final_vector /= count\n",
    "    return final_vector    "
   ]
  },
  {
   "cell_type": "code",
   "execution_count": null,
   "id": "1335ee81",
   "metadata": {},
   "outputs": [],
   "source": [
    "print('Original text:',x_test_full[0])\n",
    "print(\"\\n\")\n",
    "print('Clean text:',x_test_full_clean[0])\n",
    "print(\"\\n\")\n",
    "embbed_review(x_test_full_clean[0], glove_vectors)"
   ]
  }
 ],
 "metadata": {
  "kernelspec": {
   "display_name": "Python 3",
   "language": "python",
   "name": "python3"
  },
  "language_info": {
   "codemirror_mode": {
    "name": "ipython",
    "version": 3
   },
   "file_extension": ".py",
   "mimetype": "text/x-python",
   "name": "python",
   "nbconvert_exporter": "python",
   "pygments_lexer": "ipython3",
   "version": "3.8.8"
  }
 },
 "nbformat": 4,
 "nbformat_minor": 5
}
