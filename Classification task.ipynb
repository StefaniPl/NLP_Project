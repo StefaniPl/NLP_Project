{
 "cells": [
  {
   "cell_type": "code",
   "execution_count": 1,
   "id": "012a8c2d",
   "metadata": {},
   "outputs": [
    {
     "name": "stderr",
     "output_type": "stream",
     "text": [
      "[nltk_data] Downloading package stopwords to\n",
      "[nltk_data]     C:\\Users\\alejo\\AppData\\Roaming\\nltk_data...\n",
      "[nltk_data]   Package stopwords is already up-to-date!\n"
     ]
    }
   ],
   "source": [
    "import pandas as pd\n",
    "import preproccesing\n",
    "import embeddings\n",
    "import numpy as np\n",
    "import warnings\n",
    "warnings.filterwarnings(\"ignore\")"
   ]
  },
  {
   "cell_type": "code",
   "execution_count": 2,
   "id": "98a3ca42",
   "metadata": {},
   "outputs": [],
   "source": [
    "df = pd.read_csv(\"data_sample_nlp.csv\")\n",
    "df_en = df[df.language=='en'].copy()"
   ]
  },
  {
   "cell_type": "code",
   "execution_count": 3,
   "id": "ba87e6e0",
   "metadata": {},
   "outputs": [],
   "source": [
    "bots = df_en[df_en.label=='bot'].copy()\n",
    "humans = df_en[df_en.label=='human'].sample(frac=0.08577628723614125).copy()\n",
    "df_small = pd.concat([bots,humans]).sample(frac=1).reset_index().drop(columns='index')"
   ]
  },
  {
   "cell_type": "code",
   "execution_count": 4,
   "id": "b124b9fa",
   "metadata": {},
   "outputs": [],
   "source": [
    "df_clean = preproccesing.preprocessing(df=df_small,\n",
    "                            lowercase=False, \n",
    "                            stopwords=False, \n",
    "                            links=False, \n",
    "                            tags=False, \n",
    "                            numbers=False, \n",
    "                            emojis=False, \n",
    "                            hashtag=False,\n",
    "                            rt=False).copy()"
   ]
  },
  {
   "cell_type": "code",
   "execution_count": 5,
   "id": "ab7002a4",
   "metadata": {},
   "outputs": [],
   "source": [
    "data=df_small.copy()"
   ]
  },
  {
   "cell_type": "code",
   "execution_count": 6,
   "id": "50c60ee8",
   "metadata": {
    "code_folding": [
     4,
     10
    ]
   },
   "outputs": [
    {
     "ename": "NameError",
     "evalue": "name 'model_name' is not defined",
     "output_type": "error",
     "traceback": [
      "\u001b[1;31m---------------------------------------------------------------------------\u001b[0m",
      "\u001b[1;31mNameError\u001b[0m                                 Traceback (most recent call last)",
      "\u001b[1;32m<ipython-input-6-9ed7aad4aab0>\u001b[0m in \u001b[0;36m<module>\u001b[1;34m\u001b[0m\n\u001b[0;32m      4\u001b[0m     \u001b[0mj\u001b[0m \u001b[1;33m=\u001b[0m \u001b[1;36m0\u001b[0m\u001b[1;33m\u001b[0m\u001b[1;33m\u001b[0m\u001b[0m\n\u001b[0;32m      5\u001b[0m     \u001b[1;32mfor\u001b[0m \u001b[0md_i\u001b[0m \u001b[1;32min\u001b[0m \u001b[0mnp\u001b[0m\u001b[1;33m.\u001b[0m\u001b[0marray_split\u001b[0m\u001b[1;33m(\u001b[0m\u001b[0mdata\u001b[0m\u001b[1;33m,\u001b[0m \u001b[0msplits\u001b[0m\u001b[1;33m)\u001b[0m\u001b[1;33m:\u001b[0m\u001b[1;33m\u001b[0m\u001b[1;33m\u001b[0m\u001b[0m\n\u001b[1;32m----> 6\u001b[1;33m         \u001b[0mrepresentations\u001b[0m \u001b[1;33m=\u001b[0m \u001b[0membeddings\u001b[0m\u001b[1;33m.\u001b[0m\u001b[0mget_representation\u001b[0m\u001b[1;33m(\u001b[0m\u001b[0mmodel_name\u001b[0m\u001b[1;33m,\u001b[0m \u001b[0mlist\u001b[0m\u001b[1;33m(\u001b[0m\u001b[0mdf_clean\u001b[0m\u001b[1;33m.\u001b[0m\u001b[0mtext\u001b[0m\u001b[1;33m.\u001b[0m\u001b[0mvalues\u001b[0m\u001b[1;33m)\u001b[0m\u001b[1;33m)\u001b[0m\u001b[1;33m\u001b[0m\u001b[1;33m\u001b[0m\u001b[0m\n\u001b[0m\u001b[0;32m      7\u001b[0m         \u001b[0mresult\u001b[0m\u001b[1;33m.\u001b[0m\u001b[0mappend\u001b[0m\u001b[1;33m(\u001b[0m\u001b[0mrepresentations\u001b[0m\u001b[1;33m.\u001b[0m\u001b[0mlast_hidden_state\u001b[0m\u001b[1;33m)\u001b[0m\u001b[1;33m\u001b[0m\u001b[1;33m\u001b[0m\u001b[0m\n\u001b[0;32m      8\u001b[0m         \u001b[0mj\u001b[0m \u001b[1;33m+=\u001b[0m \u001b[1;36m1\u001b[0m\u001b[1;33m\u001b[0m\u001b[1;33m\u001b[0m\u001b[0m\n",
      "\u001b[1;31mNameError\u001b[0m: name 'model_name' is not defined"
     ]
    }
   ],
   "source": [
    "model_name = 'distilbert-base-uncased'\n",
    "result = []\n",
    "splits = round(data.shape[0] / 100)\n",
    "if splits > 1:\n",
    "    j = 0\n",
    "    for d_i in np.array_split(data, splits):\n",
    "        representations = embeddings.get_representation(model_name, list(df_clean.text.values))\n",
    "        result.append(representations.last_hidden_state)\n",
    "        j += 1\n",
    "        print(f'--- {j}/{splits} ---')\n",
    "else:\n",
    "    print('Nothing to do')"
   ]
  },
  {
   "cell_type": "code",
   "execution_count": null,
   "id": "eb4daba8",
   "metadata": {},
   "outputs": [],
   "source": [
    "\n",
    "representations = embeddings.get_representation(model_name, list(df_clean.text.values))"
   ]
  }
 ],
 "metadata": {
  "kernelspec": {
   "display_name": "Python 3",
   "language": "python",
   "name": "python3"
  },
  "language_info": {
   "codemirror_mode": {
    "name": "ipython",
    "version": 3
   },
   "file_extension": ".py",
   "mimetype": "text/x-python",
   "name": "python",
   "nbconvert_exporter": "python",
   "pygments_lexer": "ipython3",
   "version": "3.8.8"
  }
 },
 "nbformat": 4,
 "nbformat_minor": 5
}
