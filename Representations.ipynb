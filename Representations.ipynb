{
 "cells": [
  {
   "cell_type": "code",
   "execution_count": 24,
   "id": "c2d7be4c",
   "metadata": {},
   "outputs": [],
   "source": [
    "from transformers import AutoTokenizer\n",
    "from transformers import AutoModel\n",
    "import pandas as pd\n",
    "import warnings\n",
    "warnings.filterwarnings(\"ignore\")"
   ]
  },
  {
   "cell_type": "code",
   "execution_count": 25,
   "id": "54cdd80d",
   "metadata": {},
   "outputs": [],
   "source": [
    "df = pd.read_csv('data_sample_nlp.csv')"
   ]
  },
  {
   "cell_type": "code",
   "execution_count": 52,
   "id": "d14aeeb0",
   "metadata": {},
   "outputs": [],
   "source": [
    "def tokenize(model_name, text_batch):\n",
    "    tokenizer = AutoTokenizer.from_pretrained(model_name)\n",
    "    tokens = tokenizer(text_batch,\n",
    "                       truncation=True, \n",
    "                       max_length=128,\n",
    "                       return_tensors='pt', \n",
    "                       padding=True)\n",
    "    return tokens\n",
    "\n",
    "def get_representation(model_name, text_batch):\n",
    "    model = AutoModel.from_pretrained(model_name)\n",
    "    tokens = tokenize(model_name, text_batch)\n",
    "    \n",
    "    return model(input_ids=tokens.input_ids,\n",
    "                 attention_mask=tokens.attention_mask,\n",
    "                 output_attentions=False, \n",
    "                 output_hidden_states=False)"
   ]
  },
  {
   "cell_type": "code",
   "execution_count": 53,
   "id": "de718f90",
   "metadata": {},
   "outputs": [],
   "source": [
    "model_name = 'bert-base-uncased'"
   ]
  },
  {
   "cell_type": "code",
   "execution_count": 54,
   "id": "f2dd6fa3",
   "metadata": {},
   "outputs": [
    {
     "name": "stderr",
     "output_type": "stream",
     "text": [
      "Some weights of the model checkpoint at bert-base-uncased were not used when initializing BertModel: ['cls.seq_relationship.bias', 'cls.seq_relationship.weight', 'cls.predictions.transform.dense.weight', 'cls.predictions.transform.LayerNorm.bias', 'cls.predictions.bias', 'cls.predictions.decoder.weight', 'cls.predictions.transform.LayerNorm.weight', 'cls.predictions.transform.dense.bias']\n",
      "- This IS expected if you are initializing BertModel from the checkpoint of a model trained on another task or with another architecture (e.g. initializing a BertForSequenceClassification model from a BertForPreTraining model).\n",
      "- This IS NOT expected if you are initializing BertModel from the checkpoint of a model that you expect to be exactly identical (initializing a BertForSequenceClassification model from a BertForSequenceClassification model).\n"
     ]
    }
   ],
   "source": [
    "bert_rep = get_representation('bert-base-uncased',  list(df.head(3).text.values))"
   ]
  },
  {
   "cell_type": "code",
   "execution_count": 57,
   "id": "602a05fb",
   "metadata": {},
   "outputs": [
    {
     "data": {
      "text/plain": [
       "torch.Size([3, 40, 768])"
      ]
     },
     "execution_count": 57,
     "metadata": {},
     "output_type": "execute_result"
    }
   ],
   "source": [
    "bert_rep.last_hidden_state.shape"
   ]
  },
  {
   "cell_type": "code",
   "execution_count": null,
   "id": "fe830332",
   "metadata": {},
   "outputs": [],
   "source": []
  },
  {
   "cell_type": "code",
   "execution_count": null,
   "id": "229ecc7c",
   "metadata": {},
   "outputs": [],
   "source": []
  },
  {
   "cell_type": "code",
   "execution_count": null,
   "id": "85eb66fc",
   "metadata": {},
   "outputs": [],
   "source": []
  },
  {
   "cell_type": "code",
   "execution_count": 26,
   "id": "058270f9",
   "metadata": {},
   "outputs": [],
   "source": [
    "model_name = 'bert-base-uncased'\n",
    "\n",
    "tokenizer = AutoTokenizer.from_pretrained(model_name)"
   ]
  },
  {
   "cell_type": "code",
   "execution_count": 28,
   "id": "a10a0a9f",
   "metadata": {},
   "outputs": [
    {
     "data": {
      "text/plain": [
       "torch.Size([2, 14])"
      ]
     },
     "execution_count": 28,
     "metadata": {},
     "output_type": "execute_result"
    }
   ],
   "source": [
    "tokenizer(['Rolf lives in Gothenburg.', 'Shorter example an I am moving to Australia to model for Chalmers'], \n",
    "          truncation=True, \n",
    "          max_length=128,\n",
    "          return_tensors='pt', \n",
    "          padding=True)['input_ids'].shape"
   ]
  },
  {
   "cell_type": "code",
   "execution_count": 29,
   "id": "879ed815",
   "metadata": {},
   "outputs": [
    {
     "name": "stderr",
     "output_type": "stream",
     "text": [
      "Some weights of the model checkpoint at bert-base-uncased were not used when initializing BertModel: ['cls.seq_relationship.bias', 'cls.seq_relationship.weight', 'cls.predictions.transform.dense.weight', 'cls.predictions.transform.LayerNorm.bias', 'cls.predictions.bias', 'cls.predictions.decoder.weight', 'cls.predictions.transform.LayerNorm.weight', 'cls.predictions.transform.dense.bias']\n",
      "- This IS expected if you are initializing BertModel from the checkpoint of a model trained on another task or with another architecture (e.g. initializing a BertForSequenceClassification model from a BertForPreTraining model).\n",
      "- This IS NOT expected if you are initializing BertModel from the checkpoint of a model that you expect to be exactly identical (initializing a BertForSequenceClassification model from a BertForSequenceClassification model).\n"
     ]
    }
   ],
   "source": [
    "example_bert_model = AutoModel.from_pretrained(model_name)"
   ]
  },
  {
   "cell_type": "code",
   "execution_count": 30,
   "id": "79954fbe",
   "metadata": {},
   "outputs": [],
   "source": [
    "test_input = tokenizer(['The sun is shining .'], return_tensors='pt')"
   ]
  },
  {
   "cell_type": "code",
   "execution_count": 31,
   "id": "ef0044b7",
   "metadata": {},
   "outputs": [
    {
     "data": {
      "text/plain": [
       "{'input_ids': tensor([[ 101, 1996, 3103, 2003, 9716, 1012,  102]]), 'token_type_ids': tensor([[0, 0, 0, 0, 0, 0, 0]]), 'attention_mask': tensor([[1, 1, 1, 1, 1, 1, 1]])}"
      ]
     },
     "execution_count": 31,
     "metadata": {},
     "output_type": "execute_result"
    }
   ],
   "source": [
    "test_input"
   ]
  },
  {
   "cell_type": "code",
   "execution_count": 32,
   "id": "a41b73aa",
   "metadata": {},
   "outputs": [
    {
     "data": {
      "text/plain": [
       "torch.Size([1, 7])"
      ]
     },
     "execution_count": 32,
     "metadata": {},
     "output_type": "execute_result"
    }
   ],
   "source": [
    "test_input[\"input_ids\"].shape"
   ]
  },
  {
   "cell_type": "code",
   "execution_count": 33,
   "id": "7d175919",
   "metadata": {},
   "outputs": [],
   "source": [
    "bert_output = example_bert_model(input_ids=test_input.input_ids,\n",
    "                                 attention_mask=test_input.attention_mask,\n",
    "                                 output_attentions=False, \n",
    "                                 output_hidden_states=False)"
   ]
  },
  {
   "cell_type": "code",
   "execution_count": 37,
   "id": "392fd0dc",
   "metadata": {},
   "outputs": [
    {
     "data": {
      "text/plain": [
       "tensor([[[ 0.0531,  0.2165,  0.0769,  ..., -0.4777,  0.2351,  0.3642],\n",
       "         [ 0.0751, -0.3684, -0.5673,  ...,  0.0885,  0.7713,  0.2428],\n",
       "         [ 0.0604,  0.3275,  0.6198,  ...,  0.0514,  0.2337, -0.1310],\n",
       "         ...,\n",
       "         [ 0.8587,  0.1827,  0.3951,  ..., -0.2227,  0.1423,  0.3706],\n",
       "         [-0.0525, -0.8587,  0.0436,  ...,  0.3787,  0.3595, -0.7702],\n",
       "         [ 0.9509,  0.0496, -0.0146,  ...,  0.0333, -0.5536, -0.2881]]],\n",
       "       grad_fn=<NativeLayerNormBackward0>)"
      ]
     },
     "execution_count": 37,
     "metadata": {},
     "output_type": "execute_result"
    }
   ],
   "source": [
    "bert_output['last_hidden_state']"
   ]
  },
  {
   "cell_type": "code",
   "execution_count": null,
   "id": "cceabad9",
   "metadata": {},
   "outputs": [],
   "source": []
  }
 ],
 "metadata": {
  "kernelspec": {
   "display_name": "Python 3",
   "language": "python",
   "name": "python3"
  },
  "language_info": {
   "codemirror_mode": {
    "name": "ipython",
    "version": 3
   },
   "file_extension": ".py",
   "mimetype": "text/x-python",
   "name": "python",
   "nbconvert_exporter": "python",
   "pygments_lexer": "ipython3",
   "version": "3.8.8"
  }
 },
 "nbformat": 4,
 "nbformat_minor": 5
}
