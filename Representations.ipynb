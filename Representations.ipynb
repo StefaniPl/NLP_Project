{
 "cells": [
  {
   "cell_type": "code",
   "execution_count": 24,
   "id": "9a0b752d",
   "metadata": {},
   "outputs": [],
   "source": [
    "from transformers import AutoTokenizer\n",
    "from transformers import AutoModel\n",
    "import pandas as pd\n",
    "import warnings\n",
    "warnings.filterwarnings(\"ignore\")"
   ]
  },
  {
   "cell_type": "code",
   "execution_count": 1,
   "id": "7e3f1982",
   "metadata": {},
   "outputs": [],
   "source": []
  },
  {
   "cell_type": "code",
   "execution_count": 25,
   "id": "602596ec",
   "metadata": {},
   "outputs": [],
   "source": [
    "df = pd.read_csv('data_sample_nlp.csv')"
   ]
  },
  {
   "cell_type": "code",
   "execution_count": 52,
   "id": "e96be28f",
   "metadata": {},
   "outputs": [],
   "source": [
    "def tokenize(model_name, text_batch):\n",
    "    tokenizer = AutoTokenizer.from_pretrained(model_name)\n",
    "    tokens = tokenizer(text_batch,\n",
    "                       truncation=True, \n",
    "                       max_length=128,\n",
    "                       return_tensors='pt', \n",
    "                       padding=True)\n",
    "    return tokens\n",
    "\n",
    "def get_representation(model_name, text_batch):\n",
    "    model = AutoModel.from_pretrained(model_name)\n",
    "    tokens = tokenize(model_name, text_batch)\n",
    "    \n",
    "    return model(input_ids=tokens.input_ids,\n",
    "                 attention_mask=tokens.attention_mask,\n",
    "                 output_attentions=False, \n",
    "                 output_hidden_states=False)"
   ]
  },
  {
   "cell_type": "code",
   "execution_count": 53,
   "id": "170fcac6",
   "metadata": {},
   "outputs": [],
   "source": [
    "model_name = 'bert-base-uncased'"
   ]
  },
  {
   "cell_type": "code",
   "execution_count": 54,
   "id": "42350ba8",
   "metadata": {},
   "outputs": [
    {
     "name": "stderr",
     "output_type": "stream",
     "text": [
      "Some weights of the model checkpoint at bert-base-uncased were not used when initializing BertModel: ['cls.seq_relationship.bias', 'cls.seq_relationship.weight', 'cls.predictions.transform.dense.weight', 'cls.predictions.transform.LayerNorm.bias', 'cls.predictions.bias', 'cls.predictions.decoder.weight', 'cls.predictions.transform.LayerNorm.weight', 'cls.predictions.transform.dense.bias']\n",
      "- This IS expected if you are initializing BertModel from the checkpoint of a model trained on another task or with another architecture (e.g. initializing a BertForSequenceClassification model from a BertForPreTraining model).\n",
      "- This IS NOT expected if you are initializing BertModel from the checkpoint of a model that you expect to be exactly identical (initializing a BertForSequenceClassification model from a BertForSequenceClassification model).\n"
     ]
    }
   ],
   "source": [
    "bert_rep = get_representation('bert-base-uncased',  list(df.head(3).text.values))"
   ]
  },
  {
   "cell_type": "code",
   "execution_count": 57,
   "id": "5270af42",
   "metadata": {},
   "outputs": [
    {
     "data": {
      "text/plain": [
       "torch.Size([3, 40, 768])"
      ]
     },
     "execution_count": 57,
     "metadata": {},
     "output_type": "execute_result"
    }
   ],
   "source": [
    "bert_rep.last_hidden_state.shape"
   ]
  },
  {
   "cell_type": "code",
   "execution_count": null,
   "id": "961f88f8",
   "metadata": {},
   "outputs": [],
   "source": []
  }
 ],
 "metadata": {
  "kernelspec": {
   "display_name": "Python 3",
   "language": "python",
   "name": "python3"
  },
  "language_info": {
   "codemirror_mode": {
    "name": "ipython",
    "version": 3
   },
   "file_extension": ".py",
   "mimetype": "text/x-python",
   "name": "python",
   "nbconvert_exporter": "python",
   "pygments_lexer": "ipython3",
   "version": "3.8.8"
  }
 },
 "nbformat": 4,
 "nbformat_minor": 5
}
